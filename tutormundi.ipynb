{
 "cells": [
  {
   "cell_type": "markdown",
   "metadata": {},
   "source": [
    "# Classificação de Dúvidas em Categorias de Ensino\n",
    "\n",
    "Este código exemplifica o processo de classificação de uma dúvida em uma das categorias de ensino. \n",
    "\n",
    "O objetivo é receber uma pergunta e determinar em qual categoria de ensino ela se enquadra. Para isso, utilizamos o módulo `API`.\n",
    "\n",
    "A pergunta é definida como uma string e passada como argumento para a função `get_classification()`. A função retorna a categoria de ensino correspondente à pergunta.\n",
    "\n",
    "- Funções utilizadas:\n",
    "    - `get_classification(pergunta)`: Retorna a categoria de ensino correspondente à pergunta.\n",
    "    - `is_classification_valid(classification, response)`: Retorna `True` se a classificação da pergunta for válida, e `False` caso contrário.\n",
    "    - `evalue_classification()`: Retorna a acurácia do prompt.\n",
    "\n",
    "Para a instalação das bibliotecas necessárias, execute o comando abaixo:\n",
    "\n",
    "```bash\n",
    "!pip install -r requirements.txt\n",
    "```\n",
    "\n",
    "Para o pleno funcionamento da aplicação, você deve ter uma chave de acesso para a API da OpenAI e inseri-la no campo `api_key` do módulo `API`.\n",
    "\n",
    "- **Como gerar chave openai?** : Para obter uma chave de acesso para a API da OpenAI, siga estes passos:\n",
    "\n",
    "        Acesse o site da OpenAI em https://openai.com/.\n",
    "        Clique em \"Sign up\" ou \"Get started\" para criar uma conta.\n",
    "        Preencha o formulário de registro com suas informações pessoais.\n",
    "        Após criar sua conta, faça login no site da OpenAI.\n",
    "        Navegue até a seção de \"APIs\" ou \"Developers\" no site.\n",
    "        Procure pela opção de \"API Key\" ou \"Generate API Key\".\n",
    "        Clique nessa opção para gerar uma nova chave de acesso.\n",
    "        Copie a chave de acesso gerada.\n",
    "        Guarde essa chave de acesso em um local seguro, pois ela será necessária para autenticar suas solicitações à API da OpenAI.\n",
    "        Certifique-se de ler e seguir os termos de uso e as políticas de privacidade da OpenAI ao utilizar a API.\n",
    "\n",
    "**Aqui está o código de exemplo:**\n",
    "\n"
   ]
  },
  {
   "cell_type": "code",
   "execution_count": null,
   "metadata": {
    "tags": []
   },
   "outputs": [],
   "source": [
    "import API\n",
    "\n",
    "def main(pergunta):\n",
    "\n",
    "    completion = API.get_classification(pergunta)\n",
    "\n",
    "    print(completion)\n",
    "\n",
    "pergunta = \"\"\" \n",
    "Entre as consequências da Expansão Marítima,\n",
    "não encontramos \n",
    "a) a formação do Sistema Colonial.\n",
    "b) o desenvolvimento do eurocentrismo.\n",
    "c) a expansão do regime assalariado da Europa para a\n",
    "América.\n",
    "d) início do processo de acumulação de capitais.\n",
    "impulsionando o modo de produção capitalista.\n",
    "e) introdução do trabalho escravo na América.\n",
    "\"\"\"\n",
    "main(pergunta)"
   ]
  },
  {
   "cell_type": "markdown",
   "metadata": {},
   "source": [
    "**Como utilizar o código?**\n",
    "- Execute o código e escreva sua dúvida, em seguida aperte ENTER."
   ]
  },
  {
   "cell_type": "code",
   "execution_count": null,
   "metadata": {},
   "outputs": [],
   "source": [
    "import API\n",
    "\n",
    "def main(pergunta):\n",
    "\n",
    "    completion = API.get_classification(pergunta)\n",
    "\n",
    "    print(completion)\n",
    "    \n",
    "pergunta = input(\"Digite a pergunta: \")\n",
    "main(pergunta)"
   ]
  },
  {
   "cell_type": "markdown",
   "metadata": {},
   "source": [
    "**Teste de acertividade:**\n",
    "- Envie sua dúvida e a categoria de ensino esperada.\n"
   ]
  },
  {
   "cell_type": "code",
   "execution_count": null,
   "metadata": {},
   "outputs": [],
   "source": [
    "import API\n",
    "import difflib\n",
    "\n",
    "materias = [\"Matemática\", \"Física\", \"Química\", \"Biologia\", \"História\", \"Geografia\", \"Filosofia\", \"Sociologia\", \"Inglês\", \"Espanhol\", \"Português\", \"Artes\", \"Educação Física\", \"Literatura\", \"Redação\"]\n",
    "pergunta = input(\"Digite a pergunta: \")\n",
    "materia = difflib.get_close_matches(input(\"Digite a matéria: \"), materias, n=1, cutoff=0.7)[0]\n",
    "\n",
    "guess = API.get_classification(pergunta)\n",
    "\n",
    "print(\"Sua pergunta é de\", materia)\n",
    "print(f\"O modelo acha que a pergunta é de {guess}\")\n",
    "\n",
    "\n",
    "API.is_classification_valid(materia, guess)"
   ]
  },
  {
   "cell_type": "markdown",
   "metadata": {},
   "source": [
    "**Teste com entradas fornecidas:**\n",
    "\n",
    "**Química:**\n",
    "\n",
    "- Pergunta: Olá, como são formadas as cavernas? E as estalactites e estalagmites?\n",
    "\n",
    "**Biologia:**\n",
    "\n",
    "- Pergunta: Qual a diferença entre a gordura animal e a gordura vegetal hidrogenada?\n",
    "\n",
    "- Pergunta: Boa tarde! Qual a relação das mitocôndrias com a síntese proteica?\n",
    "\n",
    "**Matemática:**\n",
    "\n",
    "- Pergunta: Como funciona a relação do ângulo externo do triângulo com os outros dois ângulos internos do triângulo?\n",
    "\n",
    "- Pergunta (UESB BA/2017): Sejam dois conjuntos não vazios, quaisquer, X e Y, satisfazendo a seguinte propriedade: “A quantidade de subconjuntos de X é o dobro da quantidade de subconjuntos de Y”. Considerando-se n (X) o número de elementos do conjunto X, e n (Y), o número de elementos do conjunto Y, é correto afirmar que n (X) é igual a... (opções de resposta numeradas)\n",
    "\n",
    "**História:**\n",
    "\n",
    "- Pergunta: Entre as consequências da Expansão Marítima, não encontramos...\n",
    "\n",
    "**Literatura:**\n",
    "\n",
    "- Pergunta: Ainda não entendi o que significa eu lírico, pode me explicar?\n",
    "\n",
    "**Matemática:**\n",
    "\n",
    "- Pergunta: Quanto vale 18 rad?\n",
    "\n",
    "- Pergunta: Se {-1; 2x+y; 2; 3; 1} = {2; 4; x-y; 1; 3}, então... (opções de resposta numeradas)\n",
    "\n",
    "**Física:**\n",
    "\n",
    "- Pergunta: Olá, todos os conceitos de potencial (potencial gravitacional, potencial elétrico, etc) utilizam noções de trabalho? Por quê?    "
   ]
  },
  {
   "cell_type": "code",
   "execution_count": null,
   "metadata": {},
   "outputs": [],
   "source": [
    "import API\n",
    "import asyncio\n",
    "import nest_asyncio\n",
    "nest_asyncio.apply()\n",
    "\n",
    "evaluate_tax = asyncio.run(API.evaluate_classification())\n",
    "print(f\"{evaluate_tax} % das classificações estão corretas\")"
   ]
  },
  {
   "cell_type": "markdown",
   "metadata": {},
   "source": [
    "**Respondendo ao desenho da pesquisa**\n",
    "    \n",
    "- Primeiramente, a taxa de acerto: \"Acredito que se adotarmos um modelo de LLM como ChatGPT ou Lhama, necessitariamos usar de LoRa, treinando camadas especializadas para cada categoria de ensino/ tarefa de classificação, e assim, teríamos uma taxa de acerto mais elevada gastando menos recursos computacionais, visto que o reajuste de uma tarefa específica como classificação geralmente não necessita de grandes reajustes nas camadas.\"\n",
    "\n",
    "- Custo: \"No longo prazo, LLMS como o ChatGPT tornam-se custosas, em eficiência temporal e em custo financeiro, principalmente com um trânsito alto de requisições. Acredito que uma rede neural de classificação binária aplicada pra cada matéria usando as strings de dúvida como entrada, em formato de tokens, e as categorias de ensino como saída, seria mais eficiente e menos custosa, levando em conta que dados de treino são obtidos diariamente pelo aplicativo do TutorMundi e podem retroalimentar o modelo.\"\n",
    "\n",
    "- Velocidade de resposta: \"Uma request pra uma API é temporalmente custoso e depende da disponibilidade do servidor da OpenAI, este problema é evitado com uma rede de classificação operando dentro de um servidor próprio e que pode ser acessado por uma API própria, além de.\""
   ]
  }
 ],
 "metadata": {
  "kernelspec": {
   "display_name": "Python 3",
   "language": "python",
   "name": "python3"
  },
  "language_info": {
   "codemirror_mode": {
    "name": "ipython",
    "version": 3
   },
   "file_extension": ".py",
   "mimetype": "text/x-python",
   "name": "python",
   "nbconvert_exporter": "python",
   "pygments_lexer": "ipython3",
   "version": "3.12.0"
  }
 },
 "nbformat": 4,
 "nbformat_minor": 2
}
